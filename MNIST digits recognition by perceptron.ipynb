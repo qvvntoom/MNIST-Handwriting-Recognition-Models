{
  "cells": [
    {
      "cell_type": "markdown",
      "metadata": {
        "id": "qJ6Wxyt-yvR8"
      },
      "source": [
        "# Recognizing digits using a perceptron\n",
        "\n",
        "MNIST dataset is a large collection of handwritten digits used for training various image processing systems. This dataset is composed of 60,000 training images and 10,000 testing images.\n",
        "\n",
        "Before proceeding further with the model, let's load all the necessary packages."
      ]
    },
    {
      "cell_type": "code",
      "execution_count": 6,
      "metadata": {
        "id": "90wlwxxf0dby"
      },
      "outputs": [],
      "source": [
        "import matplotlib.pyplot as plt\n",
        "import numpy as np\n",
        "from keras.datasets import mnist\n",
        "import random"
      ]
    },
    {
      "cell_type": "markdown",
      "metadata": {},
      "source": [
        "We will create a model that will recognize two digits of our choice. So let's choose the digits that we will further classify.\n",
        "\n",
        "We can choose digits randomly, or we can predetermine which digits we want our model to recognize. "
      ]
    },
    {
      "cell_type": "code",
      "execution_count": 13,
      "metadata": {
        "id": "GUcTjW3FzK3v"
      },
      "outputs": [
        {
          "name": "stdout",
          "output_type": "stream",
          "text": [
            "First digit: 2\n",
            "Second digit: 9\n"
          ]
        }
      ],
      "source": [
        "digits = random.sample(range(10), 2)\n",
        "digit_a, digit_b = digits\n",
        "\n",
        "print(\"First digit:\", digit_a)\n",
        "print(\"Second digit:\", digit_b)\n"
      ]
    },
    {
      "cell_type": "markdown",
      "metadata": {
        "id": "lAIgHdZWzgCI"
      },
      "source": [
        "Now Let's load the data, and split it into a training set and a test set."
      ]
    },
    {
      "cell_type": "code",
      "execution_count": 14,
      "metadata": {
        "colab": {
          "base_uri": "https://localhost:8080/"
        },
        "id": "gSyW41qTAUBa",
        "outputId": "42bb830a-c8d9-4b91-8ce1-257ae1b80a18"
      },
      "outputs": [
        {
          "name": "stdout",
          "output_type": "stream",
          "text": [
            "Downloading data from https://storage.googleapis.com/tensorflow/tf-keras-datasets/mnist.npz\n",
            "\u001b[1m11490434/11490434\u001b[0m \u001b[32m━━━━━━━━━━━━━━━━━━━━\u001b[0m\u001b[37m\u001b[0m \u001b[1m1s\u001b[0m 0us/step\n"
          ]
        }
      ],
      "source": [
        "(train_X, train_y), (test_X, test_y) = mnist.load_data()"
      ]
    },
    {
      "cell_type": "markdown",
      "metadata": {
        "id": "4iS1eDM50uAU"
      },
      "source": [
        "Let's look at what the data structure looks like."
      ]
    },
    {
      "cell_type": "code",
      "execution_count": 19,
      "metadata": {
        "colab": {
          "base_uri": "https://localhost:8080/"
        },
        "id": "maZhT5oOD5fw",
        "outputId": "764c922d-0446-407d-8bd2-4c63c0be367f"
      },
      "outputs": [
        {
          "name": "stdout",
          "output_type": "stream",
          "text": [
            " Train data X :\n",
            " [[  0   0   0   0   0   0   0   0   0   0   0   0   0   0   0   0   0   0\n",
            "    0   0   0   0   0   0   0   0   0   0]\n",
            " [  0   0   0   0   0   0   0   0   0   0   0   0   0   0   0   0   0   0\n",
            "    0   0   0   0   0   0   0   0   0   0]\n",
            " [  0   0   0   0   0   0   0   0   0   0   0   0   0   0   0   0   0   0\n",
            "    0   0   0   0   0   0   0   0   0   0]\n",
            " [  0   0   0   0   0   0   0   0   0   0   0   0   0   0   0   0   0   0\n",
            "    0   0   0   0   0   0   0   0   0   0]\n",
            " [  0   0   0   0   0   0   0   0   0   0   0   0   0   0   0   0   0   0\n",
            "    0   0   0   0   0   0   0   0   0   0]\n",
            " [  0   0   0   0   0   0   0   0   0   0   0   0   3  18  18  18 126 136\n",
            "  175  26 166 255 247 127   0   0   0   0]\n",
            " [  0   0   0   0   0   0   0   0  30  36  94 154 170 253 253 253 253 253\n",
            "  225 172 253 242 195  64   0   0   0   0]\n",
            " [  0   0   0   0   0   0   0  49 238 253 253 253 253 253 253 253 253 251\n",
            "   93  82  82  56  39   0   0   0   0   0]\n",
            " [  0   0   0   0   0   0   0  18 219 253 253 253 253 253 198 182 247 241\n",
            "    0   0   0   0   0   0   0   0   0   0]\n",
            " [  0   0   0   0   0   0   0   0  80 156 107 253 253 205  11   0  43 154\n",
            "    0   0   0   0   0   0   0   0   0   0]\n",
            " [  0   0   0   0   0   0   0   0   0  14   1 154 253  90   0   0   0   0\n",
            "    0   0   0   0   0   0   0   0   0   0]\n",
            " [  0   0   0   0   0   0   0   0   0   0   0 139 253 190   2   0   0   0\n",
            "    0   0   0   0   0   0   0   0   0   0]\n",
            " [  0   0   0   0   0   0   0   0   0   0   0  11 190 253  70   0   0   0\n",
            "    0   0   0   0   0   0   0   0   0   0]\n",
            " [  0   0   0   0   0   0   0   0   0   0   0   0  35 241 225 160 108   1\n",
            "    0   0   0   0   0   0   0   0   0   0]\n",
            " [  0   0   0   0   0   0   0   0   0   0   0   0   0  81 240 253 253 119\n",
            "   25   0   0   0   0   0   0   0   0   0]\n",
            " [  0   0   0   0   0   0   0   0   0   0   0   0   0   0  45 186 253 253\n",
            "  150  27   0   0   0   0   0   0   0   0]\n",
            " [  0   0   0   0   0   0   0   0   0   0   0   0   0   0   0  16  93 252\n",
            "  253 187   0   0   0   0   0   0   0   0]\n",
            " [  0   0   0   0   0   0   0   0   0   0   0   0   0   0   0   0   0 249\n",
            "  253 249  64   0   0   0   0   0   0   0]\n",
            " [  0   0   0   0   0   0   0   0   0   0   0   0   0   0  46 130 183 253\n",
            "  253 207   2   0   0   0   0   0   0   0]\n",
            " [  0   0   0   0   0   0   0   0   0   0   0   0  39 148 229 253 253 253\n",
            "  250 182   0   0   0   0   0   0   0   0]\n",
            " [  0   0   0   0   0   0   0   0   0   0  24 114 221 253 253 253 253 201\n",
            "   78   0   0   0   0   0   0   0   0   0]\n",
            " [  0   0   0   0   0   0   0   0  23  66 213 253 253 253 253 198  81   2\n",
            "    0   0   0   0   0   0   0   0   0   0]\n",
            " [  0   0   0   0   0   0  18 171 219 253 253 253 253 195  80   9   0   0\n",
            "    0   0   0   0   0   0   0   0   0   0]\n",
            " [  0   0   0   0  55 172 226 253 253 253 253 244 133  11   0   0   0   0\n",
            "    0   0   0   0   0   0   0   0   0   0]\n",
            " [  0   0   0   0 136 253 253 253 212 135 132  16   0   0   0   0   0   0\n",
            "    0   0   0   0   0   0   0   0   0   0]\n",
            " [  0   0   0   0   0   0   0   0   0   0   0   0   0   0   0   0   0   0\n",
            "    0   0   0   0   0   0   0   0   0   0]\n",
            " [  0   0   0   0   0   0   0   0   0   0   0   0   0   0   0   0   0   0\n",
            "    0   0   0   0   0   0   0   0   0   0]\n",
            " [  0   0   0   0   0   0   0   0   0   0   0   0   0   0   0   0   0   0\n",
            "    0   0   0   0   0   0   0   0   0   0]] \n",
            "Train data Y : 5 \n",
            "Shape X : (60000, 28, 28) \n",
            "Shape Y : (60000,)\n"
          ]
        }
      ],
      "source": [
        "print(\" Train data X :\\n\",train_X[0],\"\\nTrain data Y :\",train_y[0],\"\\nShape X :\",train_X.shape,\"\\nShape Y :\",train_y.shape)"
      ]
    },
    {
      "cell_type": "markdown",
      "metadata": {},
      "source": [
        "We can also look at our data in a different way."
      ]
    },
    {
      "cell_type": "code",
      "execution_count": 21,
      "metadata": {
        "colab": {
          "base_uri": "https://localhost:8080/",
          "height": 423
        },
        "id": "V4-EZcX72V_l",
        "outputId": "613acbd9-3538-433f-c426-034c69ed6807"
      },
      "outputs": [
        {
          "name": "stdout",
          "output_type": "stream",
          "text": [
            "Element label : 5\n"
          ]
        },
        {
          "data": {
            "image/png": "[encoded data removed]",
            "text/plain": [
              "<Figure size 640x480 with 1 Axes>"
            ]
          },
          "metadata": {},
          "output_type": "display_data"
        }
      ],
      "source": [
        "print(\"Element label :\",train_y[0])\n",
        "image=train_X[0]\n",
        "plt.imshow(255-image, cmap='gray')\n",
        "plt.axis('off')\n",
        "plt.show()"
      ]
    },
    {
      "cell_type": "markdown",
      "metadata": {
        "id": "NcZP6B_M1bH7"
      },
      "source": [
        "Since our data refers to the digits from 0 to 9 we will want to filter them so that only the ones we selected remain."
      ]
    },
    {
      "cell_type": "code",
      "execution_count": 22,
      "metadata": {
        "id": "Bl4jjYWBoKzJ"
      },
      "outputs": [],
      "source": [
        "filtered_train_X = train_X[(train_y == digit_a) | (train_y == digit_b)]\n",
        "filtered_train_y = train_y[(train_y == digit_a) | (train_y == digit_b)]\n",
        "filtered_test_X = test_X[(test_y == digit_a) | (test_y == digit_b)]\n",
        "filtered_test_y = test_y[(test_y == digit_a) | (test_y == digit_b)]"
      ]
    },
    {
      "cell_type": "code",
      "execution_count": 27,
      "metadata": {
        "colab": {
          "base_uri": "https://localhost:8080/"
        },
        "id": "0DcOme_q3nW9",
        "outputId": "1abeedee-ec77-41b9-fa4b-e1ffb5b2b1a6"
      },
      "outputs": [
        {
          "name": "stdout",
          "output_type": "stream",
          "text": [
            "Train data shape : (11907, 28, 28) \n",
            "Test data shape : (2041, 28, 28)\n"
          ]
        }
      ],
      "source": [
        "print(\"Train data shape :\",filtered_train_X.shape,\"\\nTest data shape :\", filtered_test_X.shape)"
      ]
    },
    {
      "cell_type": "markdown",
      "metadata": {
        "id": "VTxznJqq4ajm"
      },
      "source": [
        "We will now encode the selected digits as:"
      ]
    },
    {
      "cell_type": "code",
      "execution_count": 28,
      "metadata": {},
      "outputs": [
        {
          "name": "stdout",
          "output_type": "stream",
          "text": [
            "Digit 2 as 0 \n",
            "Digit 9 as 1\n"
          ]
        }
      ],
      "source": [
        "print(\"Digit\",digit_a,\"as\", 0,\"\\nDigit\",digit_b,\"as\", 1)"
      ]
    },
    {
      "cell_type": "code",
      "execution_count": 29,
      "metadata": {
        "id": "zgJmWBqRpmGb"
      },
      "outputs": [],
      "source": [
        "filtered_train_y = np.where(filtered_train_y == digit_a, 0, 1)\n",
        "filtered_test_y = np.where(filtered_test_y == digit_a, 0, 1)"
      ]
    },
    {
      "cell_type": "markdown",
      "metadata": {
        "id": "anPdDDuX441v"
      },
      "source": [
        "Now we need to flatten each 28 by 28 size matrix to a vector of length 28 times 28."
      ]
    },
    {
      "cell_type": "code",
      "execution_count": 31,
      "metadata": {
        "colab": {
          "base_uri": "https://localhost:8080/"
        },
        "id": "cx-V58G5qNxQ",
        "outputId": "50eac4da-ecc0-44d3-991e-878f90ed2e16"
      },
      "outputs": [
        {
          "name": "stdout",
          "output_type": "stream",
          "text": [
            "X train shape after flatten : (11907, 784) \n",
            "X test shape after flatten (2041, 784)\n"
          ]
        }
      ],
      "source": [
        "flat_train_X = filtered_train_X.reshape(filtered_train_X.shape[0], -1)\n",
        "flat_test_X = filtered_test_X.reshape(filtered_test_X.shape[0], -1)\n",
        "\n",
        "print(\"X train shape after flatten :\",flat_train_X.shape,\"\\nX test shape after flatten\", flat_test_X.shape)"
      ]
    },
    {
      "cell_type": "markdown",
      "metadata": {
        "id": "7lJb10hm5j0l"
      },
      "source": [
        "We have re-arranged the data so that the perceptron can learn from it to classify the image into categories 0 or 1.\n",
        "\n",
        "Now let's define the perceptron class itself."
      ]
    },
    {
      "cell_type": "code",
      "execution_count": 65,
      "metadata": {
        "id": "DP8_f28urrEf"
      },
      "outputs": [],
      "source": [
        "class Perceptron:\n",
        "    def __init__(self, n):\n",
        "        self.w = np.random.rand(n + 1)\n",
        "\n",
        "    def predict(self, x):\n",
        "        activation = np.dot(self.w, x)\n",
        "        return 1 if activation >= 0 else 0\n",
        "\n",
        "    def train(self, xx, d, eta, tol, max_iterations=1000):\n",
        "        xx = np.array([np.append([1], x) for x in xx])\n",
        "        for _ in range(max_iterations):\n",
        "            error_count = 0\n",
        "            for x, desired in zip(xx, d):\n",
        "                prediction = self.predict(x)\n",
        "                error = desired - prediction\n",
        "                error_count += abs(error)\n",
        "                self.w += eta * error * x\n",
        "            if error_count/len(xx) <= tol:\n",
        "                break\n",
        "\n",
        "    def evaluate_test(self, xx, d):\n",
        "      xx = np.array([np.append([1], x) for x in xx])\n",
        "      TP, FP, TN, FN = 0, 0, 0, 0\n",
        "      predictions = []\n",
        "      for x, desired in zip(xx, d):\n",
        "          prediction = self.predict(x)\n",
        "          predictions.append(prediction)\n",
        "          if prediction == 1 and desired == 1:\n",
        "              TP += 1\n",
        "          elif prediction == 1 and desired == 0:\n",
        "              FP += 1\n",
        "          elif prediction == 0 and desired == 1:\n",
        "              FN += 1\n",
        "          elif prediction == 0 and desired == 0:\n",
        "              TN += 1\n",
        "      error_rate = (FP + FN) / len(xx)\n",
        "      confusion_matrix = np.array([[TP, FP], [FN, TN]])\n",
        "      return error_rate, predictions, confusion_matrix\n",
        "\n",
        "    def classify(self, x):\n",
        "        x = np.append([1], x)\n",
        "        return self.predict(x)\n",
        "\n",
        "    def decode(self,x, digit_a,digit_b):\n",
        "      if x == 0:\n",
        "        return digit_a\n",
        "      else:\n",
        "        return digit_b\n",
        "\n"
      ]
    },
    {
      "cell_type": "markdown",
      "metadata": {
        "id": "byO74ymh6aPQ"
      },
      "source": [
        "Let's initialize the perceptron with random weights."
      ]
    },
    {
      "cell_type": "code",
      "execution_count": 34,
      "metadata": {
        "id": "gZS5HNoM7H74"
      },
      "outputs": [],
      "source": [
        "perceptron = Perceptron(n=flat_train_X.shape[1])"
      ]
    },
    {
      "cell_type": "markdown",
      "metadata": {
        "id": "FYvegn-_7HTJ"
      },
      "source": [
        "Now let's train our perceptron on the training data. By default, we will set the learning rate $η = 0.01$, and the error tolerance $tol = 0.01$."
      ]
    },
    {
      "cell_type": "code",
      "execution_count": 35,
      "metadata": {
        "id": "iECQO5TarpwH"
      },
      "outputs": [],
      "source": [
        "perceptron.train(flat_train_X, filtered_train_y, eta=0.01, tol=0.01)"
      ]
    },
    {
      "cell_type": "markdown",
      "metadata": {
        "id": "yIJQT1GW7iux"
      },
      "source": [
        "**Teraz ocenimy perceptron na zbiorze testowym:**"
      ]
    },
    {
      "cell_type": "code",
      "execution_count": 40,
      "metadata": {
        "colab": {
          "base_uri": "https://localhost:8080/"
        },
        "id": "i5UEnnak7qXw",
        "outputId": "6c986910-e189-4627-bef2-475abf9e8588"
      },
      "outputs": [
        {
          "name": "stdout",
          "output_type": "stream",
          "text": [
            "Error rate on test data : 0.014208721215090642 \n",
            "Accuracy : 0.9857912787849094 \n",
            "Confusion matrix:\n",
            " [[ 998   18]\n",
            " [  11 1014]]\n"
          ]
        }
      ],
      "source": [
        "test_error_rate, test_predictions, confusion_matrix = perceptron.evaluate_test(flat_test_X, filtered_test_y)\n",
        "\n",
        "print(\"Error rate on test data :\" ,test_error_rate,\"\\nAccuracy :\",1-test_error_rate,\"\\nConfusion matrix:\\n\",confusion_matrix)"
      ]
    },
    {
      "cell_type": "markdown",
      "metadata": {
        "id": "T4KRDxwB9fFq"
      },
      "source": [
        "We received satisfactory performance.\n",
        "\n",
        "Algorithm predicted:"
      ]
    },
    {
      "cell_type": "code",
      "execution_count": 46,
      "metadata": {
        "colab": {
          "base_uri": "https://localhost:8080/"
        },
        "id": "Cvzb68q-Cz0l",
        "outputId": "59cd0d3e-d415-4bdd-b92b-957f07987ad4"
      },
      "outputs": [
        {
          "name": "stdout",
          "output_type": "stream",
          "text": [
            "Correctly 9 : 998 | Correctly 2 : 1014 | Incorrectly 9 : 11 | Incorrectly 2 : 18\n"
          ]
        }
      ],
      "source": [
        "print(\"Correctly\", digit_b, \":\",confusion_matrix[0][0],\"| Correctly\", digit_a, \":\",confusion_matrix[1][1],\"| Incorrectly\",digit_b,\":\",confusion_matrix[1][0],\"| Incorrectly\",digit_a,\":\",confusion_matrix[0][1])"
      ]
    },
    {
      "cell_type": "markdown",
      "metadata": {
        "id": "z0ufnasr-jyG"
      },
      "source": [
        "Now we will teach the model to recognize another pair of digits, and then check the operation of the algorithm on the digits that the user will write by hand.\n",
        "\n",
        "I handwrote the numbers 2, and 8 in Paint, and then saved them in a format from which I can switch to a 28 by 28 matrix. Now I will save them as matrices, and display what the numbers I wrote look like."
      ]
    },
    {
      "cell_type": "code",
      "execution_count": 47,
      "metadata": {
        "id": "70suRIGDPyd1"
      },
      "outputs": [],
      "source": [
        "MyNumber2 = np.array([[  0,   0,   0,   0,   0,   0,   0,   0,   0,   0,   0,   0,   0,   0,\n",
        "    0,   0,   0,   0,   0,   0,   0,   0,   0,   0,   0,   0,   0,   0],\n",
        " [  0,   0,   0,   0,   0,   0,   0,   0,   0,   0,   0,   0,   0,   0,\n",
        "    0,   0,   0,   0,   0,   0,   0,   0,   0,   0,   0,   0,   0,   0],\n",
        " [  0,   0,   0,   0,   0,   0,   0,   0,   0,   0,   0,   0,   0,   0,\n",
        "    0,   0,   0,   0,   0,   0,   0,   0,   0,   0,   0,   0,   0,   0],\n",
        " [  0,   0,   0,   0,   0,   0,   0,   0,   0,   0,   0,   0,   0,   0,\n",
        "    0,   0,   0,   0,   0,   0,   0,   0,   0,   0,   0,   0,   0,   0],\n",
        " [  0,   0,   0,   0,   0,   0,   0,   0,   0,   0,   0,   0,   0,   0,\n",
        "    0,   0,   0,   0,   0,   0,   0,   0,   0,   0,   0,   0,   0,   0],\n",
        " [  0,   0,   0,   0,   0,   0,   0,   0,   0, 248, 182, 255, 255, 255,\n",
        "  255, 255, 255, 255, 182,   8,   0,   0,   0,   0,   0,   0,   0,   0],\n",
        " [  0,   0,   0,   0,   0,   0,   0,   0, 248, 182, 255, 255, 255, 255,\n",
        "  255, 255, 255, 255, 255, 183,   0,   0,   0,   0,   0,   0,   0,   0],\n",
        " [  0,   0,   0,   0,   0,   0,   0,   0, 182, 255, 255, 255, 255, 255,\n",
        "  255, 255, 255, 255, 255, 255,   0,   0,   0,   0,   0,   0,   0,   0],\n",
        " [  0,   0,   0,   0,   0,   0,   0,   0, 173, 255, 255,  92,   0,   0,\n",
        "    0,   0,   0, 255, 255, 255,   0,   0,   0,   0,   0,   0,   0,   0],\n",
        " [  0,   0,   0,   0,   0,   0,   0,   0,   0,   0,   0,   0,   0,   0,\n",
        "    0,   0, 248, 255, 255, 255,   0,   0,   0,   0,   0,   0,   0,   0],\n",
        " [  0,   0,   0,   0,   0,   0,   0,   0,   0,   0,   0,   0,   0,   0,\n",
        "    0,   0, 182, 255, 255, 255,   0,   0,   0,   0,   0,   0,   0,   0],\n",
        " [  0,   0,   0,   0,   0,   0,   0,   0,   0,   0,   0,   0,   0,   0,\n",
        "    0, 248, 255, 255, 255,  92,   0,   0,   0,   0,   0,   0,   0,   0],\n",
        " [  0,   0,   0,   0,   0,   0,   0,   0,   0,   0,   0,   0,   0, 248,\n",
        "  182, 255, 255, 255, 255,   0,   0,   0,   0,   0,   0,   0,   0,   0],\n",
        " [  0,   0,   0,   0,   0,   0,   0,   0,   0,   0,   0,   0, 248, 182,\n",
        "  255, 255, 255, 255,  92,   0,   0,   0,   0,   0,   0,   0,   0,   0],\n",
        " [  0,   0,   0,   0,   0,   0,   0,   0,   0,   0,   0, 248, 182, 255,\n",
        "  255, 255, 255,  92,   0,   0,   0,   0,   0,   0,   0,   0,   0,   0],\n",
        " [  0,   0,   0,   0,   0,   0,   0,   0,   0,   0, 248, 182, 255, 255,\n",
        "  255,  92,   0,   0,   0,   0,   0,   0,   0,   0,   0,   0,   0,   0],\n",
        " [  0,   0,   0,   0,   0,   0,   0,   0,   0, 248, 182, 255, 255, 255,\n",
        "   92,   0,   0,   0,   0,   0,   0,   0,   0,   0,   0,   0,   0,   0],\n",
        " [  0,   0,   0,   0,   0,   0,   0,   0,   0, 182, 255, 255, 255,  92,\n",
        "    0,   0,   0,   0,   0,   0,   0,   0,   0,   0,   0,   0,   0,   0],\n",
        " [  0,   0,   0,   0,   0,   0,   0,   0,   0, 255, 255, 255,  92,   0,\n",
        "    0,   0,   0,   0,   0,   0,   0,   0,   0,   0,   0,   0,   0,   0],\n",
        " [  0,   0,   0,   0,   0,   0,   0,   0,   0, 255, 255, 255, 255, 255,\n",
        "  255, 255, 255, 255, 255, 182,   8,   0,   0,   0,   0,   0,   0,   0],\n",
        " [  0,   0,   0,   0,   0,   0,   0,   0,   0, 183, 255, 255, 255, 255,\n",
        "  255, 255, 255, 255, 255, 255, 183,   0,   0,   0,   0,   0,   0,   0],\n",
        " [  0,   0,   0,   0,   0,   0,   0,   0,   0,  91, 255, 255, 255, 255,\n",
        "  255, 255, 255, 255, 255, 255,  92,   0,   0,   0,   0,   0,   0,   0],\n",
        " [  0,   0,   0,   0,   0,   0,   0,   0,   0,   0,   0,   0,   0,   0,\n",
        "    0,   0,   0,   0,   0,   0,   0,   0,   0,   0,   0,   0,   0,   0],\n",
        " [  0,   0,   0,   0,   0,   0,   0,   0,   0,   0,   0,   0,   0,   0,\n",
        "    0,   0,   0,   0,   0,   0,   0,   0,   0,   0,   0,   0,   0,   0],\n",
        " [  0,   0,   0,   0,   0,   0,   0,   0,   0,   0,   0,   0,   0,   0,\n",
        "    0,   0,   0,   0,   0,   0,   0,   0,   0,   0,   0,   0,   0,   0],\n",
        " [  0,   0,   0,   0,   0,   0,   0,   0,   0,   0,   0,   0,   0,   0,\n",
        "    0,   0,   0,   0,   0,   0,   0,   0,   0,   0,   0,   0,   0,   0],\n",
        " [  0,   0,   0,   0,   0,   0,   0,   0,   0,   0,   0,   0,   0,   0,\n",
        "    0,   0,   0,   0,   0,   0,   0,   0,   0,   0,   0,   0,   0,   0],\n",
        " [  0,   0,   0,   0,   0,   0,   0,   0,   0,   0,   0,   0,   0,   0,\n",
        "    0,   0,   0,   0,   0,   0,   0,   0,   0,   0,   0,   0,   0,   0]])\n"
      ]
    },
    {
      "cell_type": "code",
      "execution_count": 48,
      "metadata": {
        "id": "S0132CiPSFkT"
      },
      "outputs": [],
      "source": [
        "MyNumber8 = np.array([[  0,   0,   0,   0,   0,   0,   0,   0,   0,   0,   0,   0,   0,   0,\n",
        "    0,   0,   0,   0,   0,   0,   0,   0,   0,   0,   0,   0,   0,   0],\n",
        " [  0,   0,   0,   0,   0,   0,   0,   0,   0,   0,   0,   0,   0,   0,\n",
        "    0,   0,   0,   0,   0,   0,   0,   0,   0,   0,   0,   0,   0,   0],\n",
        " [  0,   0,   0,   0,   0,   0,   0,   0,   0,   0,   0,   0, 248, 182,\n",
        "    9,   0,   0,   0,   0,   0,   0,   0,   0,   0,   0,   0,   0,   0],\n",
        " [  0,   0,   0,   0,   0,   0,   0,   0,   0, 248, 182, 182, 182, 255,\n",
        "   91,   0,   0,   0,   0,   0,   0,   0,   0,   0,   0,   0,   0,   0],\n",
        " [  0,   0,   0,   0,   0,   0,   0,   0, 248, 182, 255, 255, 255, 255,\n",
        "  255, 255,  91,   0,   0,   0,   0,   0,   0,   0,   0,   0,   0,   0],\n",
        " [  0,   0,   0,   0,   0,   0,   0, 248, 182, 255, 255, 255,  92,   0,\n",
        "  255, 255, 255,   0,   0,   0,   0,   0,   0,   0,   0,   0,   0,   0],\n",
        " [  0,   0,   0,   0,   0,   0,   0, 182, 255, 255, 255,  92,   0,   0,\n",
        "  255, 255, 255,   0,   0,   0,   0,   0,   0,   0,   0,   0,   0,   0],\n",
        " [  0,   0,   0,   0,   0,   0,   0, 255, 255, 255, 173,   0,   0,   0,\n",
        "  255, 255, 255,   0,   0,   0,   0,   0,   0,   0,   0,   0,   0,   0],\n",
        " [  0,   0,   0,   0,   0,   0,   0, 183, 255, 255, 183,   0,   0, 248,\n",
        "  255, 255, 255,   0,   0,   0,   0,   0,   0,   0,   0,   0,   0,   0],\n",
        " [  0,   0,   0,   0,   0,   0,   0,  91, 255, 255, 255, 248, 182, 255,\n",
        "  255, 255, 255,   0,   0,   0,   0,   0,   0,   0,   0,   0,   0,   0],\n",
        " [  0,   0,   0,   0,   0,   0,   0,   0, 255, 255, 255, 255, 255, 255,\n",
        "  255, 255,  92,   0,   0,   0,   0,   0,   0,   0,   0,   0,   0,   0],\n",
        " [  0,   0,   0,   0,   0,   0,   0,   0, 183, 255, 255, 255, 255, 255,\n",
        "  255,  92,   0,   0,   0,   0,   0,   0,   0,   0,   0,   0,   0,   0],\n",
        " [  0,   0,   0,   0,   0,   0,   0, 248, 182, 255, 255, 165,  91, 255,\n",
        "  255, 255, 255, 182,   8,   0,   0,   0,   0,   0,   0,   0,   0,   0],\n",
        " [  0,   0,   0,   0,   0,   0, 248, 182, 255, 255, 255, 248,   0, 255,\n",
        "  255, 255, 255, 255, 255, 182,   8,   0,   0,   0,   0,   0,   0,   0],\n",
        " [  0,   0,   0,   0,   0,   0, 182, 255, 255, 255,  92,   0,   0, 255,\n",
        "  255, 255, 255, 255, 255, 255, 183,   8,   0,   0,   0,   0,   0,   0],\n",
        " [  0,   0,   0,   0,   0,   0, 255, 255, 255,  92,   0,   0,   0,   0,\n",
        "    0,   0,  91, 255, 255, 255, 255, 183,   8,   0,   0,   0,   0,   0],\n",
        " [  0,   0,   0,   0,   0,   0, 255, 255, 255,   0,   0,   0,   0,   0,\n",
        "    0,   0,   0,   0,  91, 255, 255, 255, 183,   0,   0,   0,   0,   0],\n",
        " [  0,   0,   0,   0,   0,   0, 255, 255, 255,   8,   0,   0,   0,   0,\n",
        "    0,   0,   0,   0,   0,  91, 255, 255, 255,   0,   0,   0,   0,   0],\n",
        " [  0,   0,   0,   0,   0,   0, 183, 255, 255, 183,   8,   0,   0,   0,\n",
        "    0,   0,   0,   0,   0,   0, 255, 255, 255,   0,   0,   0,   0,   0],\n",
        " [  0,   0,   0,   0,   0,   0,  91, 255, 255, 255, 255,   9,   0,   0,\n",
        "    0,   0,   0,   0, 248, 182, 255, 255, 255,   0,   0,   0,   0,   0],\n",
        " [  0,   0,   0,   0,   0,   0,   0,  91, 255, 255, 255,  91,   0,   0,\n",
        "    0, 255, 255, 255, 255, 255, 255, 255, 255,   0,   0,   0,   0,   0],\n",
        " [  0,   0,   0,   0,   0,   0,   0,   0,  91, 255, 255, 255,  91,   0,\n",
        "    8, 165,  91, 255, 255, 255, 255, 255,  92,   0,   0,   0,   0,   0],\n",
        " [  0,   0,   0,   0,   0,   0,   0,   0,   0,   0,   0,  91, 255, 255,\n",
        "  255,  91,   0, 255, 255, 255,  92,   0,   0,   0,   0,   0,   0,   0],\n",
        " [  0,   0,   0,   0,   0,   0,   0,   0,   0,   0,   0,   0,   0,   0,\n",
        "    0,   0,   0,   0,   0,   0,   0,   0,   0,   0,   0,   0,   0,   0],\n",
        " [  0,   0,   0,   0,   0,   0,   0,   0,   0,   0,   0,   0,   0,   0,\n",
        "    0,   0,   0,   0,   0,   0,   0,   0,   0,   0,   0,   0,   0,   0],\n",
        " [  0,   0,   0,   0,   0,   0,   0,   0,   0,   0,   0,   0,   0,   0,\n",
        "    0,   0,   0,   0,   0,   0,   0,   0,   0,   0,   0,   0,   0,   0],\n",
        " [  0,   0,   0,   0,   0,   0,   0,   0,   0,   0,   0,   0,   0,   0,\n",
        "    0,   0,   0,   0,   0,   0,   0,   0,   0,   0,   0,   0,   0,   0],\n",
        " [  0,   0,   0,   0,   0,   0,   0,   0,   0,   0,   0,   0,   0,   0,\n",
        "    0,   0,   0,   0,   0,   0,   0,   0,   0,   0,   0,   0,   0,   0]])"
      ]
    },
    {
      "cell_type": "code",
      "execution_count": 50,
      "metadata": {
        "colab": {
          "base_uri": "https://localhost:8080/",
          "height": 406
        },
        "id": "WxvFH8luWRoU",
        "outputId": "12b75801-ff72-4e92-d49e-1e72aec5669a"
      },
      "outputs": [
        {
          "name": "stdout",
          "output_type": "stream",
          "text": [
            "My digit 2:\n"
          ]
        },
        {
          "data": {
            "image/png": "[encoded data removed]",
            "text/plain": [
              "<Figure size 640x480 with 1 Axes>"
            ]
          },
          "metadata": {},
          "output_type": "display_data"
        }
      ],
      "source": [
        "print(\"My digit 2:\")\n",
        "plt.imshow(255- MyNumber2, cmap='gray')\n",
        "plt.axis('off')\n",
        "plt.show()"
      ]
    },
    {
      "cell_type": "code",
      "execution_count": 51,
      "metadata": {
        "colab": {
          "base_uri": "https://localhost:8080/",
          "height": 406
        },
        "id": "xQ7AhMvpSFr-",
        "outputId": "d6e6e5df-6ab8-4912-e7ed-488c35699b36"
      },
      "outputs": [
        {
          "name": "stdout",
          "output_type": "stream",
          "text": [
            "My digit 8:\n"
          ]
        },
        {
          "data": {
            "image/png": "[encoded data removed]",
            "text/plain": [
              "<Figure size 640x480 with 1 Axes>"
            ]
          },
          "metadata": {},
          "output_type": "display_data"
        }
      ],
      "source": [
        "print(\"My digit 8:\")\n",
        "plt.imshow(255- MyNumber8, cmap='gray')\n",
        "plt.axis('off')\n",
        "plt.show()"
      ]
    },
    {
      "cell_type": "markdown",
      "metadata": {
        "id": "LryMNRGIDqBS"
      },
      "source": [
        "Now we will teach the model to recognize a new pair of digits, and then check how the model will classify our images."
      ]
    },
    {
      "cell_type": "code",
      "execution_count": 61,
      "metadata": {},
      "outputs": [
        {
          "name": "stdout",
          "output_type": "stream",
          "text": [
            "First selected digit : 2 \n",
            "Second selected digit : 8\n",
            "Error rate on test data : 0.036390827517447655 \n",
            "Accuracy : 0.9636091724825524 \n",
            "Confusion matrix:\n",
            " [[960  59]\n",
            " [ 14 973]]\n"
          ]
        }
      ],
      "source": [
        "digit_a, digit_b = 2,8\n",
        "print(\"First selected digit :\", digit_a,\"\\nSecond selected digit :\", digit_b)\n",
        "\n",
        "filtered_train_X = train_X[(train_y == digit_a) | (train_y == digit_b)]\n",
        "filtered_train_y = train_y[(train_y == digit_a) | (train_y == digit_b)]\n",
        "filtered_test_X = test_X[(test_y == digit_a) | (test_y == digit_b)]\n",
        "filtered_test_y = test_y[(test_y == digit_a) | (test_y == digit_b)]\n",
        "\n",
        "filtered_train_y = np.where(filtered_train_y == digit_a, 0, 1)\n",
        "filtered_test_y = np.where(filtered_test_y == digit_a, 0, 1)\n",
        "\n",
        "flat_train_X = filtered_train_X.reshape(filtered_train_X.shape[0], -1)\n",
        "flat_test_X = filtered_test_X.reshape(filtered_test_X.shape[0], -1)\n",
        "\n",
        "perceptron = Perceptron(n=flat_train_X.shape[1])\n",
        "\n",
        "perceptron.train(flat_train_X, filtered_train_y, eta=0.01, tol=0.01)\n",
        "\n",
        "test_error_rate, test_predictions, confusion_matrix = perceptron.evaluate_test(flat_test_X, filtered_test_y)\n",
        "\n",
        "print(\"Error rate on test data :\" ,test_error_rate,\"\\nAccuracy :\",1-test_error_rate,\"\\nConfusion matrix:\\n\",confusion_matrix)"
      ]
    },
    {
      "cell_type": "code",
      "execution_count": 62,
      "metadata": {},
      "outputs": [
        {
          "name": "stdout",
          "output_type": "stream",
          "text": [
            "Correctly 8 : 960 | Correctly 2 : 973 | Incorrectly 8 : 14 | Incorrectly 2 : 59\n"
          ]
        }
      ],
      "source": [
        "print(\"Correctly\", digit_b, \":\",confusion_matrix[0][0],\"| Correctly\", digit_a, \":\",confusion_matrix[1][1],\"| Incorrectly\",digit_b,\":\",confusion_matrix[1][0],\"| Incorrectly\",digit_a,\":\",confusion_matrix[0][1])"
      ]
    },
    {
      "cell_type": "code",
      "execution_count": 63,
      "metadata": {
        "id": "X7Qwl0p1SFm6"
      },
      "outputs": [],
      "source": [
        "Binar_class_2 = perceptron.classify(MyNumber2.flatten())\n",
        "Binar_class_8 = perceptron.classify(MyNumber8.flatten())"
      ]
    },
    {
      "cell_type": "code",
      "execution_count": 64,
      "metadata": {
        "colab": {
          "base_uri": "https://localhost:8080/"
        },
        "id": "AmD_NR92RhW8",
        "outputId": "74394810-cd70-4eac-c7b8-e358bf065899"
      },
      "outputs": [
        {
          "name": "stdout",
          "output_type": "stream",
          "text": [
            "My digit 2 predicted class: 2 \n",
            "My digit 8 predicted class : 8\n"
          ]
        }
      ],
      "source": [
        "print(\"My digit 2 predicted class:\",perceptron.decode(Binar_class_2, digit_a,digit_b),\"\\nMy digit 8 predicted class :\",perceptron.decode(Binar_class_8, digit_a,digit_b))"
      ]
    },
    {
      "cell_type": "markdown",
      "metadata": {
        "id": "MQZRNZvlE75E"
      },
      "source": [
        "Algorithm correctly classified the numbers we entered from outside the set."
      ]
    }
  ],
  "metadata": {
    "colab": {
      "provenance": []
    },
    "kernelspec": {
      "display_name": "Python 3",
      "name": "python3"
    },
    "language_info": {
      "codemirror_mode": {
        "name": "ipython",
        "version": 3
      },
      "file_extension": ".py",
      "mimetype": "text/x-python",
      "name": "python",
      "nbconvert_exporter": "python",
      "pygments_lexer": "ipython3",
      "version": "3.11.5"
    }
  },
  "nbformat": 4,
  "nbformat_minor": 0
}
